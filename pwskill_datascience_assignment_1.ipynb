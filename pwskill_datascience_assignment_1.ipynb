{
 "cells": [
  {
   "cell_type": "markdown",
   "id": "8f077e0f-5bfb-49a7-bca4-c8c7faedb559",
   "metadata": {},
   "source": [
    "# Assignment"
   ]
  },
  {
   "cell_type": "code",
   "execution_count": 2,
   "id": "7f8c2fbc-86cd-4f23-b165-358d55ba59b1",
   "metadata": {},
   "outputs": [
    {
     "data": {
      "text/plain": [
       "' Ans-These  are the following characteristics of the tuples:- \\n        1.Tuples are used to store heterogeneous and homogeneous data.\\n        2.Tuples are immutable in nature.\\n        3.Tuples are ordered\\n        4.An index is used to traverse a tuple.\\n        Yes! tuples are immutable, they are faster than the list because they are static.\\n'"
      ]
     },
     "execution_count": 89,
     "metadata": {},
     "output_type": "execute_result"
    }
   ],
   "source": [
    "# Q1. What are the characteristics of the tuples? Is tuple immutable?\n",
    "\"\"\" Ans-These  are the following characteristics of the tuples:-         \n",
    "        1.Tuples are used to store heterogeneous and homogeneous data.        \n",
    "        2.Tuples are immutable in nature.\n",
    "        3.Tuples are ordered\n",
    "        4.An index is used to traverse a tuple.\n",
    "        Yes! tuples are immutable, they are faster than the list because they are static\n",
    "\"\"\""
   ]
  },
  {
   "cell_type": "code",
   "execution_count": null,
   "id": "bd0898c9-133d-4423-b412-a9a5aaf666b1",
   "metadata": {},
   "outputs": [
    {
     "data": {
      "text/plain": [
       "' Ans-These are the two tuple methods in python.\\n        1. count()\\n              Example:\\n                      t=(1,2,3,4,5,6,7,1,1,3,4,5,6)\\n                      print(t.count(1))\\n        2. index()\\n              Example:\\n                     t=(1,2,3,4,5,6,7,1,1,3,4,5,6)\\n                     print(t.index(7))\\n    \\n   \\n       List has a large memory and Tuple is stored in a single block of memory.\\n       Creating a tuple is faster than creating a list.\\n       Creating a list is slower because two memory blocks need to be accessed.\\n'"
      ]
     },
     "execution_count": 41,
     "metadata": {},
     "output_type": "execute_result"
    }
   ],
   "source": [
    "# Q2. What are the two tuple methods in python? Give an example of each method. Give a reason why\n",
    "#     tuples have only two in-built methods as compared to Lists.\n",
    "\n",
    "\"\"\" Ans-These are the two tuple methods in python.\n",
    "        1. count()\n",
    "              Example:\n",
    "                      t=(1,2,3,4,5,6,7,1,1,3,4,5,6)\n",
    "                      print(t.count(1))\n",
    "        2. index()              \n",
    "              Example:\n",
    "                     t=(1,2,3,4,5,6,7,1,1,3,4,5,6)\n",
    "                     print(t.index(7))\n",
    "    \n",
    "   \n",
    "       List has a large memory and Tuple is stored in a single block of memory.\n",
    "       Creating a tuple is faster than creating a list.\n",
    "       Creating a list is slower because two memory blocks need to be accessed.\n",
    "\"\"\""
   ]
  },
  {
   "cell_type": "code",
   "execution_count": 13,
   "id": "a2919319-e597-4241-9f81-888a5e5e42ae",
   "metadata": {},
   "outputs": [
    {
     "name": "stdout",
     "output_type": "stream",
     "text": [
      "3\n"
     ]
    }
   ],
   "source": [
    "# 1. Example of count() tuple.\n",
    "            \n",
    "t=(1,2,3,4,5,6,7,1,1,3,4,5,6)\n",
    "print(t.count(1))"
   ]
  },
  {
   "cell_type": "code",
   "execution_count": 14,
   "id": "7eefb8d0-2796-438c-ac55-f55d58ae1c18",
   "metadata": {},
   "outputs": [
    {
     "name": "stdout",
     "output_type": "stream",
     "text": [
      "6\n"
     ]
    }
   ],
   "source": [
    "# 2.Example of index() tuple.\n",
    "\n",
    "t=(1,2,3,4,5,6,7,1,1,3,4,5,6)\n",
    "print(t.index(7))"
   ]
  },
  {
   "cell_type": "code",
   "execution_count": 17,
   "id": "07708cfe-52b6-435f-85f5-647a2768e550",
   "metadata": {},
   "outputs": [
    {
     "data": {
      "text/plain": [
       "'Ans- Set is a unique collection datatypes in python.It do not allow duplicate items.'"
      ]
     },
     "execution_count": 17,
     "metadata": {},
     "output_type": "execute_result"
    }
   ],
   "source": [
    "# Q3.Which collection datatypes in python do not allow duplicate items? Write a code using a set to remove\n",
    "#    duplicates from the given list.\n",
    "#    List = [1, 1, 1, 2, 1, 3, 1, 4, 2, 1, 2, 2, 2, 3, 2, 4, 3, 1, 3, 2, 3, 3, 3, 4, 4, 1, 4, 2, 4, 3, 4, 4]\n",
    "\n",
    "'''\n",
    "Ans- Set is a unique collection datatypes in python.It do not allow duplicate items.'''\n",
    " \n"
   ]
  },
  {
   "cell_type": "code",
   "execution_count": 21,
   "id": "54d60e63-d385-404d-bdfe-7ca69c17f8d0",
   "metadata": {},
   "outputs": [
    {
     "name": "stdout",
     "output_type": "stream",
     "text": [
      "{1, 2, 3, 4}\n"
     ]
    }
   ],
   "source": [
    "'''\n",
    "Example-\n",
    "Write a code using a set to remove duplicates from the given list.\n",
    "List = [1, 1, 1, 2, 1, 3, 1, 4, 2, 1, 2, 2, 2, 3, 2, 4, 3, 1, 3, 2, 3, 3, 3, 4, 4, 1, 4, 2, 4, 3, 4, 4]'''\n",
    "\n",
    "list={1, 1, 1, 2, 1, 3, 1, 4, 2, 1, 2, 2, 2, 3, 2, 4, 3, 1, 3, 2, 3, 3, 3, 4, 4, 1, 4, 2, 4, 3, 4, 4}\n",
    "print(list)\n"
   ]
  },
  {
   "cell_type": "code",
   "execution_count": 27,
   "id": "2c60e5ae-1b08-46b4-a44f-4c51c495ca27",
   "metadata": {},
   "outputs": [
    {
     "data": {
      "text/plain": [
       "'Q4. Explain the difference between the union() and update() methods for a set. Give an example of\\neach method.\\n\\nAns-union()-Return a new set with elements from the set and all others.'"
      ]
     },
     "execution_count": 27,
     "metadata": {},
     "output_type": "execute_result"
    }
   ],
   "source": [
    "# Q4. Explain the difference between the union() and update() methods for a set. Give an example of\n",
    "each method.\n",
    "\n",
    "'''\n",
    "Ans-union()-Return a new set with elements from the set and all others.\n",
    "    update()-Update the set, adding elements from all others. \n",
    "'''\n",
    "    "
   ]
  },
  {
   "cell_type": "code",
   "execution_count": 38,
   "id": "31c22f1f-3395-419b-bd69-1c902c00f198",
   "metadata": {},
   "outputs": [
    {
     "data": {
      "text/plain": [
       "{1, 2, 3, 4, 7, 8}"
      ]
     },
     "execution_count": 38,
     "metadata": {},
     "output_type": "execute_result"
    }
   ],
   "source": [
    "# Example of union() method.\n",
    "s={1,2,3,4}\n",
    "s.union({7,8})"
   ]
  },
  {
   "cell_type": "code",
   "execution_count": 39,
   "id": "ffe0ca9d-006e-454f-920f-ebba9a7afbe7",
   "metadata": {},
   "outputs": [
    {
     "data": {
      "text/plain": [
       "{'Name': 'Nitish kumar', 'email': 'nitish8092kumar@gmail.com'}"
      ]
     },
     "execution_count": 39,
     "metadata": {},
     "output_type": "execute_result"
    }
   ],
   "source": [
    "#  Example of update() method.\n",
    "t=({\"Name\" : \"Nitish kumar\", \"email\" : \"nitish.kumar8092@gmail.com\"})\n",
    "t.update({\"email\" : \"nitish8092kumar@gmail.com\"})\n",
    "t"
   ]
  },
  {
   "cell_type": "code",
   "execution_count": 54,
   "id": "fd31f118-29ae-43e2-9186-7f410b6a4ef9",
   "metadata": {},
   "outputs": [],
   "source": [
    "# Q5. What is a dictionary? Give an example. Also, state whether a dictionary is ordered or unordered.\n",
    "\n",
    "'''Ans-Dictionary is a colletion of key-value pairs.Dictionary is unorderd,mutable.indexed and it's cannot contain duplicate keys.'''\n",
    "\n",
    "# Example-\n",
    "a={\"Name\" : \"Nitish Kumar\", \"email\" : \"nitish.kumar8092@gmail.com\", \"city\" : \"Patna\", \"state\" : \"Bihar\"}\n"
   ]
  },
  {
   "cell_type": "code",
   "execution_count": null,
   "id": "ade6c205-fed6-45da-8c34-13358c003e0a",
   "metadata": {},
   "outputs": [
    {
     "data": {
      "text/plain": [
       "'Nitish Kumar'"
      ]
     },
     "execution_count": 43,
     "metadata": {},
     "output_type": "execute_result"
    }
   ],
   "source": [
    "a[\"Name\"]"
   ]
  },
  {
   "cell_type": "code",
   "execution_count": 55,
   "id": "8844e6d8-e424-4bdc-bd62-3657b28b6086",
   "metadata": {},
   "outputs": [
    {
     "data": {
      "text/plain": [
       "'nitish.kumar8092@gmail.com'"
      ]
     },
     "execution_count": 55,
     "metadata": {},
     "output_type": "execute_result"
    }
   ],
   "source": [
    "a[\"email\"]"
   ]
  },
  {
   "cell_type": "code",
   "execution_count": 52,
   "id": "c3f16bc1-e6cb-4821-ae8f-d700ba05279f",
   "metadata": {},
   "outputs": [
    {
     "data": {
      "text/plain": [
       "'Patna'"
      ]
     },
     "execution_count": 52,
     "metadata": {},
     "output_type": "execute_result"
    }
   ],
   "source": [
    "a[\"city\"]"
   ]
  },
  {
   "cell_type": "code",
   "execution_count": 53,
   "id": "349e9531-2848-43ad-8e05-0c43449875c6",
   "metadata": {},
   "outputs": [
    {
     "data": {
      "text/plain": [
       "'Bihar'"
      ]
     },
     "execution_count": 53,
     "metadata": {},
     "output_type": "execute_result"
    }
   ],
   "source": [
    "a[\"state\"]"
   ]
  },
  {
   "cell_type": "code",
   "execution_count": 59,
   "id": "fdc6ccb0-c582-4d15-a1b6-30f8ee9e47ef",
   "metadata": {},
   "outputs": [],
   "source": [
    "# Q6. Can we create a nested dictionary? If so, please give an example by creating a simple one-level\n",
    "#     nested dictionary.\n",
    "\n",
    "'''\n",
    "Ans-Yes! we can create a nested dictionary.\n",
    "Example-\n",
    "'''\n",
    "D1= {\"key\" : {\"name\" : \"nitish\", \"last\" :\"chaudhary\"}}"
   ]
  },
  {
   "cell_type": "code",
   "execution_count": 60,
   "id": "f5a24bb0-9cc0-4c71-a4a6-cc4fed2e8421",
   "metadata": {},
   "outputs": [
    {
     "data": {
      "text/plain": [
       "{'key': {'name': 'nitish', 'last': 'chaudhary'}}"
      ]
     },
     "execution_count": 60,
     "metadata": {},
     "output_type": "execute_result"
    }
   ],
   "source": [
    "D1"
   ]
  },
  {
   "cell_type": "code",
   "execution_count": 82,
   "id": "b3cf7691-740b-4ee2-9d7f-de6dfbbffe75",
   "metadata": {},
   "outputs": [
    {
     "data": {
      "text/plain": [
       "['Python', 'Machine Learning', 'Deep Learning']"
      ]
     },
     "execution_count": 82,
     "metadata": {},
     "output_type": "execute_result"
    }
   ],
   "source": [
    "# Q7. Using setdefault() method, create key named topics in the given dictionary and also add the value of\n",
    "#.    the key as this list ['Python', 'Machine Learning’, 'Deep Learning']\n",
    "'''\n",
    "Example\n",
    "'''\n",
    "dict1 = {'language' : 'Python', 'course': 'Data Science Masters'}\n",
    "dict1.setdefault('courses',[\"Python\", \"Machine Learning\", \"Deep Learning\"])\n"
   ]
  },
  {
   "cell_type": "code",
   "execution_count": 83,
   "id": "5a72f2ae-4453-4adb-8275-ebdde9d09ef6",
   "metadata": {},
   "outputs": [
    {
     "data": {
      "text/plain": [
       "{'language': 'Python',\n",
       " 'course': 'Data Science Masters',\n",
       " 'courses': ['Python', 'Machine Learning', 'Deep Learning']}"
      ]
     },
     "execution_count": 83,
     "metadata": {},
     "output_type": "execute_result"
    }
   ],
   "source": [
    "dict1"
   ]
  },
  {
   "cell_type": "code",
   "execution_count": 84,
   "id": "8744f756-d6aa-4da7-b4e9-f4b2a76afcf9",
   "metadata": {},
   "outputs": [
    {
     "data": {
      "text/plain": [
       "'\\nAns-The main view objects of dictionary in python are keys, values and items.\\n'"
      ]
     },
     "execution_count": 84,
     "metadata": {},
     "output_type": "execute_result"
    }
   ],
   "source": [
    "# Q8. What are the three view objects in dictionaries? Use the three in-built methods in python to display\n",
    "#.    these three view objects for the given dictionary.\n",
    "#.    dict1 = {'Sport': 'Cricket' , 'Teams': ['India', 'Australia', 'England', 'South Africa', 'Sri Lanka', 'New Zealand']}\n",
    "'''\n",
    "Ans-The main view objects of dictionary in python are keys, values and items.\n",
    "'''\n"
   ]
  },
  {
   "cell_type": "code",
   "execution_count": 86,
   "id": "18c6f1fa-6e66-469b-9b63-f9426e6e676f",
   "metadata": {},
   "outputs": [
    {
     "name": "stdout",
     "output_type": "stream",
     "text": [
      "dict_keys(['Sport', 'Teams'])\n",
      "<class 'dict_keys'>\n"
     ]
    }
   ],
   "source": [
    "# Example of keys() method.\n",
    "dict1 = {'Sport': 'Cricket' , 'Teams': ['India', 'Australia', 'England', 'South Africa', 'Sri Lanka', 'New Zealand']}\n",
    "D = dict1.keys()\n",
    "print(D)\n",
    "print(type(D))"
   ]
  },
  {
   "cell_type": "code",
   "execution_count": 87,
   "id": "5ebd3764-846b-46e9-abb3-563aa288d08b",
   "metadata": {},
   "outputs": [
    {
     "name": "stdout",
     "output_type": "stream",
     "text": [
      "dict_values(['Cricket', ['India', 'Australia', 'England', 'South Africa', 'Sri Lanka', 'New Zealand']])\n",
      "<class 'dict_values'>\n"
     ]
    }
   ],
   "source": [
    "# Example of values() method.\n",
    "dict1 = {'Sport': 'Cricket' , 'Teams': ['India', 'Australia', 'England', 'South Africa', 'Sri Lanka', 'New Zealand']}\n",
    "v = dict1.values()\n",
    "print(v)\n",
    "print(type(v))"
   ]
  },
  {
   "cell_type": "code",
   "execution_count": 91,
   "id": "b6492a9c-c862-4146-beb6-bf140054f048",
   "metadata": {},
   "outputs": [
    {
     "name": "stdout",
     "output_type": "stream",
     "text": [
      "dict_items([('Sport', 'Cricket'), ('Teams', ['India', 'Australia', 'England', 'South Africa', 'Sri Lanka', 'New Zealand'])])\n",
      "<class 'dict_items'>\n"
     ]
    }
   ],
   "source": [
    "# Example of items() method.\n",
    "dict1 = {'Sport': 'Cricket' , 'Teams': ['India', 'Australia', 'England', 'South Africa', 'Sri Lanka', 'New Zealand']}\n",
    "i = dict1.items()\n",
    "print(i)\n",
    "print(type(i))"
   ]
  },
  {
   "cell_type": "code",
   "execution_count": null,
   "id": "988c03c8-90c1-4c20-8bb7-32f52bc86d3b",
   "metadata": {},
   "outputs": [],
   "source": []
  }
 ],
 "metadata": {
  "kernelspec": {
   "display_name": "Python 3 (ipykernel)",
   "language": "python",
   "name": "python3"
  },
  "language_info": {
   "codemirror_mode": {
    "name": "ipython",
    "version": 3
   },
   "file_extension": ".py",
   "mimetype": "text/x-python",
   "name": "python",
   "nbconvert_exporter": "python",
   "pygments_lexer": "ipython3",
   "version": "3.9.13"
  }
 },
 "nbformat": 4,
 "nbformat_minor": 5
}
